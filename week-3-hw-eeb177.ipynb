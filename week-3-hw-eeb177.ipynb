{
 "cells": [
  {
   "cell_type": "code",
   "execution_count": 4,
   "metadata": {
    "collapsed": false
   },
   "outputs": [
    {
     "name": "stdout",
     "output_type": "stream",
     "text": [
      "length: 58\n",
      "A content: 12\n",
      "T content: 12\n"
     ]
    }
   ],
   "source": [
    "#homework part 2(questions 3 and 4)\n",
    "\n",
    "\n",
    "#Question 3\n",
    "my_data=\"ATAGCAGTATGAGTGACACAGATGGATTCACCAGGGGCGCCGTTGTGGTGTCCGCGCG\"\n",
    "length=len(my_data)\n",
    "a_count=my_data.count(\"A\")\n",
    "t_count=my_data.count(\"T\")\n",
    "\n",
    "print(\"length: \" + str(length))\n",
    "print(\"A content: \" + str(a_count))\n",
    "print(\"T content: \" + str(t_count))"
   ]
  },
  {
   "cell_type": "code",
   "execution_count": 5,
   "metadata": {
    "collapsed": false
   },
   "outputs": [
    {
     "name": "stdout",
     "output_type": "stream",
     "text": [
      "length: 4\n",
      "A content: 1\n",
      "T content: 1\n"
     ]
    }
   ],
   "source": [
    "test_dna = \"ATCG\"\n",
    "length=len(test_dna)\n",
    "a_count=test_dna.count(\"A\")\n",
    "t_count=test_dna.count(\"T\")\n",
    "print(\"length: \" + str(length))\n",
    "print(\"A content: \" + str(a_count))\n",
    "print(\"T content: \" + str(t_count))"
   ]
  },
  {
   "cell_type": "code",
   "execution_count": 6,
   "metadata": {
    "collapsed": false
   },
   "outputs": [
    {
     "name": "stdout",
     "output_type": "stream",
     "text": [
      "AT content is: 1.25\n"
     ]
    }
   ],
   "source": [
    "at_content=a_count + t_count / length\n",
    "print(\"AT content is: \" + str(at_content))"
   ]
  },
  {
   "cell_type": "code",
   "execution_count": 7,
   "metadata": {
    "collapsed": false
   },
   "outputs": [
    {
     "name": "stdout",
     "output_type": "stream",
     "text": [
      "AT content is: 0.5\n"
     ]
    }
   ],
   "source": [
    "at_content=(a_count + t_count) / length\n",
    "print(\"AT content is: \" + str(at_content))"
   ]
  },
  {
   "cell_type": "code",
   "execution_count": 8,
   "metadata": {
    "collapsed": false
   },
   "outputs": [
    {
     "name": "stdout",
     "output_type": "stream",
     "text": [
      "AT content is: 0.41379310344827586\n"
     ]
    }
   ],
   "source": [
    "my_data=\"ATAGCAGTATGAGTGACACAGATGGATTCACCAGGGGCGCCGTTGTGGTGTCCGCGCG\"\n",
    "length=len(my_data)\n",
    "a_count=my_data.count(\"A\")\n",
    "t_count=my_data.count(\"T\")\n",
    "\n",
    "at_content=(a_count + t_count) / length\n",
    "print(\"AT content is: \" + str(at_content))\n",
    "\n",
    "\n",
    "\n"
   ]
  },
  {
   "cell_type": "code",
   "execution_count": 9,
   "metadata": {
    "collapsed": false
   },
   "outputs": [
    {
     "name": "stdout",
     "output_type": "stream",
     "text": [
      "Hopper Grace\n"
     ]
    }
   ],
   "source": [
    "#Question 4\n",
    "\n",
    "#CHECK YOUR UNDERSTANDING\n",
    "mass=47.5 #the value of the variable \"mass\" is now 47.5\n",
    "age=122 #the value of the variable \"age\" is now 122\n",
    "mass=mass*2.0 #the value of \"mass\" changed from 47.5 to 95.0\n",
    "age=age-20 #the value of \"age\" changed from 122 to 102\n",
    "\n",
    "#SORTING OUT REFERENCES\n",
    "first, second = 'Grace', 'Hopper'\n",
    "third, fourth = second, first\n",
    "print(third, fourth)\n",
    "#it should print the following\n",
    "#Hopper Grace"
   ]
  },
  {
   "cell_type": "code",
   "execution_count": 11,
   "metadata": {
    "collapsed": false
   },
   "outputs": [
    {
     "name": "stdout",
     "output_type": "stream",
     "text": [
      "first three characters: oxy\n",
      "last three characters: gen\n",
      "oxyg\n",
      "en\n",
      "oxygen\n"
     ]
    }
   ],
   "source": [
    "#SLICING STRINGS\n",
    "element = 'oxygen'\n",
    "print('first three characters:', element[0:3])\n",
    "print('last three characters:', element[3:6])\n",
    "#What is the value of element[:4]? What about element[4:]? Or element[:]?\n",
    "print(element[:4]) \n",
    "#should print out \"oxyg\n",
    "print(element [4:] )\n",
    "#should print out \"en\"\n",
    "print(element [:] )\n",
    "#should print \"oxygen\""
   ]
  },
  {
   "cell_type": "code",
   "execution_count": 24,
   "metadata": {
    "collapsed": false
   },
   "outputs": [],
   "source": [
    "#THIN SLICES\n",
    "#The expression element[3:3] produces an empty string, i.e., a string that \n",
    "#contains no characters. If data holds our array \n",
    "#of patient data, what does data[3:3, 4:4] produce? What about data[3:3, :]?\n",
    "\n",
    "#[]\n",
    "#[]"
   ]
  },
  {
   "cell_type": "code",
   "execution_count": 23,
   "metadata": {
    "collapsed": false
   },
   "outputs": [
    {
     "data": {
      "image/png": "[encoded data removed]",
      "text/plain": [
       "<matplotlib.figure.Figure at 0x7ffae70aaa20>"
      ]
     },
     "metadata": {},
     "output_type": "display_data"
    }
   ],
   "source": [
    "#PLOT SCALING\n",
    "#Why do all of our plots stop just short of the upper end of our graph?\n",
    "#The max is set to the highest point in the data set\n",
    "\n",
    "#To change this\n",
    "import numpy\n",
    "import matplotlib.pyplot\n",
    "%matplotlib inline\n",
    "data = numpy.loadtxt(fname='/home/eeb177-student/Desktop/python-novice-inflammation/data/inflammation-01.csv', delimiter=',')\n",
    "\n",
    "fig = matplotlib.pyplot.figure(figsize=(3.0, 10.0))\n",
    "\n",
    "axes3 = fig.add_subplot(3, 1, 3)\n",
    "\n",
    "axes3.set_ylabel('min')\n",
    "axes3.plot(numpy.min(data, axis=0))\n",
    "axes3.set_ylim(0,6)\n",
    "\n",
    "fig.tight_layout()\n",
    "\n",
    "matplotlib.pyplot.show()"
   ]
  },
  {
   "cell_type": "code",
   "execution_count": 30,
   "metadata": {
    "collapsed": false
   },
   "outputs": [],
   "source": [
    "#DRAWING STRAIGHT LINES\n",
    "#matplotlib draws the line between the points"
   ]
  },
  {
   "cell_type": "code",
   "execution_count": 11,
   "metadata": {
    "collapsed": false
   },
   "outputs": [
    {
     "data": {
      "image/png": "[encoded data removed]",
      "text/plain": [
       "<matplotlib.figure.Figure at 0x7ffae4650b38>"
      ]
     },
     "metadata": {},
     "output_type": "display_data"
    }
   ],
   "source": [
    "#MAKING YOUR OWN PLOT\n",
    "import numpy\n",
    "import matplotlib.pyplot\n",
    "% matplotlib inline\n",
    "\n",
    "max_plot = matplotlib.pyplot.plot(numpy.std(data, axis=0))\n",
    "matplotlib.pyplot.show()"
   ]
  },
  {
   "cell_type": "code",
   "execution_count": 14,
   "metadata": {
    "collapsed": false
   },
   "outputs": [
    {
     "data": {
      "image/png": "[encoded data removed]",
      "text/plain": [
       "<matplotlib.figure.Figure at 0x7ffae526a390>"
      ]
     },
     "metadata": {},
     "output_type": "display_data"
    }
   ],
   "source": [
    "#MOVING PLOTS AROUND\n",
    "import numpy\n",
    "import matplotlib.pyplot\n",
    "\n",
    "data = numpy.loadtxt(fname='/home/eeb177-student/Desktop/python-novice-inflammation/data/inflammation-01.csv', delimiter=',')\n",
    "\n",
    "fig = matplotlib.pyplot.figure(figsize=(3.0, 10.0))\n",
    "\n",
    "axes1 = fig.add_subplot(3, 1, 1)\n",
    "axes2 = fig.add_subplot(3, 1, 2)\n",
    "axes3 = fig.add_subplot(3, 1, 3)\n",
    "\n",
    "axes1.set_ylabel('average')\n",
    "axes1.plot(numpy.mean(data, axis=0), drawstyle='steps-mid')\n",
    "\n",
    "axes2.set_ylabel('max')\n",
    "axes2.plot(numpy.max(data, axis=0), drawstyle='steps-mid')\n",
    "\n",
    "axes3.set_ylabel('min')\n",
    "axes3.plot(numpy.min(data, axis=0), drawstyle='steps-mid')\n",
    "\n",
    "fig.tight_layout()\n",
    "\n",
    "matplotlib.pyplot.show()"
   ]
  },
  {
   "cell_type": "code",
   "execution_count": 1,
   "metadata": {
    "collapsed": false
   },
   "outputs": [
    {
     "name": "stdout",
     "output_type": "stream",
     "text": [
      "A = \n",
      "[[1 2 3]\n",
      " [4 5 6]\n",
      " [7 8 9]]\n",
      "B = \n",
      "[[1 2 3 1 2 3]\n",
      " [4 5 6 4 5 6]\n",
      " [7 8 9 7 8 9]]\n",
      "C = \n",
      "[[1 2 3]\n",
      " [4 5 6]\n",
      " [7 8 9]\n",
      " [1 2 3]\n",
      " [4 5 6]\n",
      " [7 8 9]]\n",
      "F = \n",
      "[[1 3]\n",
      " [4 6]\n",
      " [7 9]]\n"
     ]
    }
   ],
   "source": [
    "#STACKING ARRAYS\n",
    "import numpy\n",
    "\n",
    "A = numpy.array([[1,2,3], [4,5,6], [7, 8, 9]])\n",
    "print('A = ')\n",
    "print(A)\n",
    "\n",
    "B = numpy.hstack([A, A])\n",
    "print('B = ')\n",
    "print(B)\n",
    "\n",
    "C = numpy.vstack([A, A])\n",
    "print('C = ')\n",
    "print(C)\n",
    "\n",
    "#slice first and last column of A and stack to 3x2 matrix\n",
    "D = A[:, :1]\n",
    "E = A[:,2:]\n",
    "F = numpy.hstack([D,E])\n",
    "print(\"F = \")\n",
    "print(F)"
   ]
  },
  {
   "cell_type": "code",
   "execution_count": null,
   "metadata": {
    "collapsed": true
   },
   "outputs": [],
   "source": []
  }
 ],
 "metadata": {
  "anaconda-cloud": {},
  "kernelspec": {
   "display_name": "Python [default]",
   "language": "python",
   "name": "python3"
  },
  "language_info": {
   "codemirror_mode": {
    "name": "ipython",
    "version": 3
   },
   "file_extension": ".py",
   "mimetype": "text/x-python",
   "name": "python",
   "nbconvert_exporter": "python",
   "pygments_lexer": "ipython3",
   "version": "3.5.2"
  }
 },
 "nbformat": 4,
 "nbformat_minor": 2
}
