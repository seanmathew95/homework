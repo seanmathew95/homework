{
 "cells": [
  {
   "cell_type": "code",
   "execution_count": 8,
   "metadata": {
    "collapsed": false
   },
   "outputs": [
    {
     "name": "stdout",
     "output_type": "stream",
     "text": [
      "TGACGACTCTAATGTGTCAGGAACAGGTCA\n"
     ]
    }
   ],
   "source": [
    "#Part I\n",
    "\n",
    "#Complementing dna\n",
    "my_dna=\"ACTGCTGAGATTACACAGTCCTTGTCCAGT\"\n",
    "\n",
    "replacement1=my_dna.replace(\"A\",\"t\")\n",
    "replacement2=replacement1.replace(\"T\",\"a\")\n",
    "replacement3=replacement2.replace(\"C\",\"g\")\n",
    "replacement4=replacement3.replace(\"G\",\"c\")\n",
    "\n",
    "replacement5=replacement4.upper()\n",
    "\n",
    "print(replacement5)\n"
   ]
  },
  {
   "cell_type": "code",
   "execution_count": 9,
   "metadata": {
    "collapsed": false
   },
   "outputs": [
    {
     "name": "stdout",
     "output_type": "stream",
     "text": [
      "The length of fragment 1 is: 22\n",
      "The length of fragment 2 is: 33\n"
     ]
    }
   ],
   "source": [
    "#Restriction fragment lengths\n",
    "my_dna=\"ACTGATCGATTACGTATAGTAGAATTCTATCATACATATATATCGATGCGTTCAT\"\n",
    "frag1=my_dna.find(\"GAATTC\") +1\n",
    "frag2=len(my_dna) - frag1\n",
    "print(\"The length of fragment 1 is: \" + str(frag1))\n",
    "print(\"The length of fragment 2 is: \" + str(frag2))"
   ]
  },
  {
   "cell_type": "code",
   "execution_count": 16,
   "metadata": {
    "collapsed": false
   },
   "outputs": [
    {
     "name": "stdout",
     "output_type": "stream",
     "text": [
      "ATCGATCGATCGATCGACTGACTAGTCATAGCTATGCATGTAGCTACTCGATCGATCGATCGATCATCGATCGATATCGATGCATCGACTACTAT\n"
     ]
    }
   ],
   "source": [
    "#splicing out introns part 1\n",
    "my_dna=\"ATCGATCGATCGATCGACTGACTAGTCATAGCTATGCATGTAGCTACTCGATCGATCGATCGATCGATCGATCGATCGATCGATCATGCTATCATCGATCGATATCGATGCATCGACTACTAT\"\n",
    "exon1=my_dna[0:62]\n",
    "exon2=my_dna[90:]\n",
    "print(exon1+exon2)"
   ]
  },
  {
   "cell_type": "code",
   "execution_count": 22,
   "metadata": {
    "collapsed": false
   },
   "outputs": [
    {
     "name": "stdout",
     "output_type": "stream",
     "text": [
      "78.04878048780488% of the DNA sequence is coding\n"
     ]
    }
   ],
   "source": [
    "#splicing out introns part 2\n",
    "my_dna=\"ATCGATCGATCGATCGACTGACTAGTCATAGCTATGCATGTAGCTACTCGATCGATCGATCGATCGATCGATCGATCGATCGATCATGCTATCATCGATCGATATCGATGCATCGACTACTAT\"\n",
    "exon1=my_dna[0:63] \n",
    "#must use 63 to get all the way to 63rd character, even though the 63rd character is character 64, but this command will not include the 64th\n",
    "exon2=my_dna[90:]\n",
    "coding = len(exon1) + len(exon2)\n",
    "total = len(my_dna)\n",
    "percentage_coding = (coding / total) * 100\n",
    "print(str(percentage_coding) + \"% of the DNA sequence is coding\")"
   ]
  },
  {
   "cell_type": "code",
   "execution_count": 25,
   "metadata": {
    "collapsed": false
   },
   "outputs": [
    {
     "name": "stdout",
     "output_type": "stream",
     "text": [
      "ATCGATCGATCGATCGACTGACTAGTCATAGCTATGCATGTAGCTACTCGATCGATCGATCGAtcgatcgatcgatcgatcgatcatgctATCATCGATCGATATCGATGCATCGACTACTAT\n"
     ]
    }
   ],
   "source": [
    "#Restriction fragment lengths\n",
    "my_dna=\"ATCGATCGATCGATCGACTGACTAGTCATAGCTATGCATGTAGCTACTCGATCGATCGATCGATCGATCGATCGATCGATCGATCATGCTATCATCGATCGATATCGATGCATCGACTACTAT\"\n",
    "exon1=my_dna[0:63] \n",
    "#must use 63 to get all the way to 63rd character, even though the 63rd character is character 64, but this command will not include the 64th\n",
    "exon2=my_dna[90:]\n",
    "intron=my_dna[63:90]\n",
    "intron=intron.lower()\n",
    "coding_dna=exon1+intron+exon2\n",
    "print(coding_dna)"
   ]
  },
  {
   "cell_type": "code",
   "execution_count": null,
   "metadata": {
    "collapsed": true
   },
   "outputs": [],
   "source": []
  },
  {
   "cell_type": "code",
   "execution_count": 26,
   "metadata": {
    "collapsed": true
   },
   "outputs": [],
   "source": [
    "#Part II"
   ]
  },
  {
   "cell_type": "code",
   "execution_count": 26,
   "metadata": {
    "collapsed": false
   },
   "outputs": [
    {
     "data": {
      "text/plain": [
       "27"
      ]
     },
     "execution_count": 26,
     "metadata": {},
     "output_type": "execute_result"
    }
   ],
   "source": [
    "#Splitting genomic DNA\n",
    "dna_file = open(\"week-4-hw/genomic_dna.txt\")\n",
    "my_dna = dna_file.read()\n",
    "\n",
    "exon1=my_dna[0:63] \n",
    "#must use 63 to get all the way to 63rd character, even though the 63rd character is character 64, but this command will not include the 64th\n",
    "exon2=my_dna[90:]\n",
    "intron=my_dna[63:90]\n",
    "\n",
    "# open the two output files within a folder for week 4 homework files\n",
    "coding_file = open(\"week-4-hw/coding_dna.txt\", \"w\")\n",
    "noncoding_file = open(\"week-4-hw/noncoding_dna.txt\", \"w\")\n",
    "# write the sequences to the output files\n",
    "coding_file.write(exon1 + exon2)\n",
    "noncoding_file.write(intron)"
   ]
  },
  {
   "cell_type": "code",
   "execution_count": 2,
   "metadata": {
    "collapsed": false
   },
   "outputs": [
    {
     "data": {
      "text/plain": [
       "32"
      ]
     },
     "execution_count": 2,
     "metadata": {},
     "output_type": "execute_result"
    }
   ],
   "source": [
    "#Writing a FASTA file\n",
    "header1 = \"ABC123\"\n",
    "header2 = \"DEF456\"\n",
    "header3 = \"HIJ789\"\n",
    "seq1 = \"ATCGTACGATCGATCGATCGCTAGACGTATCG\"\n",
    "seq2 = \"actgatcgacgatcgatcgatcacgact\"\n",
    "seq3 = \"ACTGAC-ACTGT--ACTGTA----CATGTG\"\n",
    "\n",
    "#capitalize second sequence\n",
    "seq2 = seq2.upper()\n",
    "\n",
    "#remove '-' from sequence\n",
    "seq3 = seq3.replace(\"-\", '')\n",
    "\n",
    "#open file\n",
    "output = open(\"week-4-hw/sequences.fasta\", \"w\")\n",
    "\n",
    "#writing sequences\n",
    "output.write('>' + header1 + '\\n' + seq1 + '\\n')\n",
    "\n",
    "output.write('>' + header2 + '\\n' + seq2 + '\\n')\n",
    "\n",
    "output.write('>' + header3 + '\\n' + seq3 + '\\n')"
   ]
  },
  {
   "cell_type": "code",
   "execution_count": null,
   "metadata": {
    "collapsed": true
   },
   "outputs": [],
   "source": []
  },
  {
   "cell_type": "code",
   "execution_count": 3,
   "metadata": {
    "collapsed": true
   },
   "outputs": [],
   "source": [
    "#Part III"
   ]
  },
  {
   "cell_type": "code",
   "execution_count": 29,
   "metadata": {
    "collapsed": false
   },
   "outputs": [
    {
     "name": "stdout",
     "output_type": "stream",
     "text": [
      "71\n",
      "72\n",
      "74\n",
      "73\n",
      "72\n",
      "37\n"
     ]
    }
   ],
   "source": [
    "#Processing DNA in a file\n",
    "dna_file=open(\"week-4-hw/input.txt\") #in my file directory, the input.txt file is within a folder\n",
    "new_file=open(\"week-4-hw/new_dna\", \"w\") #newly made files will also go into the folder\n",
    "for seq in dna_file:\n",
    "    new_dna=seq[14:] #grab 14 onwards\n",
    "    new_file.write(new_dna) #put that in new file\n",
    "    print(len(new_dna)) #also print length of trimmed data\n",
    "\n"
   ]
  },
  {
   "cell_type": "code",
   "execution_count": 23,
   "metadata": {
    "collapsed": false
   },
   "outputs": [],
   "source": [
    "#Multiple exons from genomic DNA\n",
    "dna_file=open(\"week-4-hw/genomic_dna.txt\")\n",
    "seq=dna_file.read() #create variable for the sequence\n",
    "exons=open(\"week-4-hw/exons.txt\") #existing file within a folder \n",
    "new_dna=open(\"week-4-hw/new_dna\", \"w\") #new file\n",
    "for line in exons:\n",
    "    strtstp=line.split(\",\") #removes the comma and adds both numbers to a list as two strings\n",
    "    start=int(strtstp[0]) #convert strings to numbers\n",
    "    stop=int(strtstp[1]) \n",
    "    new_dna.write(seq[start:stop]) #writing to new file"
   ]
  },
  {
   "cell_type": "code",
   "execution_count": null,
   "metadata": {
    "collapsed": true
   },
   "outputs": [],
   "source": []
  }
 ],
 "metadata": {
  "anaconda-cloud": {},
  "kernelspec": {
   "display_name": "Python [default]",
   "language": "python",
   "name": "python3"
  },
  "language_info": {
   "codemirror_mode": {
    "name": "ipython",
    "version": 3
   },
   "file_extension": ".py",
   "mimetype": "text/x-python",
   "name": "python",
   "nbconvert_exporter": "python",
   "pygments_lexer": "ipython3",
   "version": "3.5.2"
  }
 },
 "nbformat": 4,
 "nbformat_minor": 2
}
