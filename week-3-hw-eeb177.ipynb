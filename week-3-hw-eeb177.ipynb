{
 "cells": [
  {
   "cell_type": "code",
   "execution_count": 4,
   "metadata": {
    "collapsed": false
   },
   "outputs": [
    {
     "name": "stdout",
     "output_type": "stream",
     "text": [
      "length: 58\n",
      "A content: 12\n",
      "T content: 12\n"
     ]
    }
   ],
   "source": [
    "#homework part 2(questions 3 and 4)\n",
    "\n",
    "\n",
    "#Question 3\n",
    "my_data=\"ATAGCAGTATGAGTGACACAGATGGATTCACCAGGGGCGCCGTTGTGGTGTCCGCGCG\"\n",
    "length=len(my_data)\n",
    "a_count=my_data.count(\"A\")\n",
    "t_count=my_data.count(\"T\")\n",
    "\n",
    "print(\"length: \" + str(length))\n",
    "print(\"A content: \" + str(a_count))\n",
    "print(\"T content: \" + str(t_count))"
   ]
  },
  {
   "cell_type": "code",
   "execution_count": 5,
   "metadata": {
    "collapsed": false
   },
   "outputs": [
    {
     "name": "stdout",
     "output_type": "stream",
     "text": [
      "length: 4\n",
      "A content: 1\n",
      "T content: 1\n"
     ]
    }
   ],
   "source": [
    "test_dna = \"ATCG\"\n",
    "length=len(test_dna)\n",
    "a_count=test_dna.count(\"A\")\n",
    "t_count=test_dna.count(\"T\")\n",
    "print(\"length: \" + str(length))\n",
    "print(\"A content: \" + str(a_count))\n",
    "print(\"T content: \" + str(t_count))"
   ]
  },
  {
   "cell_type": "code",
   "execution_count": 6,
   "metadata": {
    "collapsed": false
   },
   "outputs": [
    {
     "name": "stdout",
     "output_type": "stream",
     "text": [
      "AT content is: 1.25\n"
     ]
    }
   ],
   "source": [
    "at_content=a_count + t_count / length\n",
    "print(\"AT content is: \" + str(at_content))"
   ]
  },
  {
   "cell_type": "code",
   "execution_count": 7,
   "metadata": {
    "collapsed": false
   },
   "outputs": [
    {
     "name": "stdout",
     "output_type": "stream",
     "text": [
      "AT content is: 0.5\n"
     ]
    }
   ],
   "source": [
    "at_content=(a_count + t_count) / length\n",
    "print(\"AT content is: \" + str(at_content))"
   ]
  },
  {
   "cell_type": "code",
   "execution_count": null,
   "metadata": {
    "collapsed": true
   },
   "outputs": [],
   "source": []
  }
 ],
 "metadata": {
  "anaconda-cloud": {},
  "kernelspec": {
   "display_name": "Python [default]",
   "language": "python",
   "name": "python3"
  },
  "language_info": {
   "codemirror_mode": {
    "name": "ipython",
    "version": 3
   },
   "file_extension": ".py",
   "mimetype": "text/x-python",
   "name": "python",
   "nbconvert_exporter": "python",
   "pygments_lexer": "ipython3",
   "version": "3.5.2"
  }
 },
 "nbformat": 4,
 "nbformat_minor": 2
}
