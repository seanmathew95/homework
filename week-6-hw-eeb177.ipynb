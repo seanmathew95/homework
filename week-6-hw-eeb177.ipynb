{
 "cells": [
  {
   "cell_type": "markdown",
   "metadata": {
    "collapsed": true
   },
   "source": [
    "# Homework week 6\n",
    "## Part I\n",
    "[conditionals and control flow](/home/eeb177-student/Desktop/eeb-177/homework/screenshots_week6/Conditionals_and_control_flow.png)\n",
    "[functions](/home/eeb177-student/Desktop/eeb-177/homework/screenshots_week6/Functions.png)\n",
    "[lists and functiosn](/home/eeb177-student/Desktop/eeb-177/homework/screenshots_week6/Lists_and_Functions.png)\n",
    "[loops](/home/eeb177-student/Desktop/eeb-177/homework/screenshots_week6/Loops.png)\n",
    "[practice makes perfect](/home/eeb177-student/Desktop/eeb-177/homework/screenshots_week6/Practice_makes_perfect.png)\n",
    "[python lists and functions](/home/eeb177-student/Desktop/eeb-177/homework/screenshots_week6/Python_Lists_and_Dictionaries.png)\n",
    "[python syntax](/home/eeb177-student/Desktop/eeb-177/homework/screenshots_week6/Python_syntax.png)"
   ]
  },
  {
   "cell_type": "code",
   "execution_count": 20,
   "metadata": {
    "collapsed": false
   },
   "outputs": [
    {
     "data": {
      "text/plain": [
       "'dcba'"
      ]
     },
     "execution_count": 20,
     "metadata": {},
     "output_type": "execute_result"
    }
   ],
   "source": [
    "def reverse(text):\n",
    "    result = ''\n",
    "    for i in range(len(text) - 1, -1, -1):\n",
    "        result = result + text[i]\n",
    "    return result\n",
    "reverse(\"abcd\")"
   ]
  },
  {
   "cell_type": "code",
   "execution_count": null,
   "metadata": {
    "collapsed": true
   },
   "outputs": [],
   "source": []
  }
 ],
 "metadata": {
  "anaconda-cloud": {},
  "kernelspec": {
   "display_name": "Python [default]",
   "language": "python",
   "name": "python3"
  },
  "language_info": {
   "codemirror_mode": {
    "name": "ipython",
    "version": 3
   },
   "file_extension": ".py",
   "mimetype": "text/x-python",
   "name": "python",
   "nbconvert_exporter": "python",
   "pygments_lexer": "ipython3",
   "version": "3.5.2"
  }
 },
 "nbformat": 4,
 "nbformat_minor": 2
}
