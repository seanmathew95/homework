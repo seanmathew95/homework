{
 "cells": [
  {
   "cell_type": "markdown",
   "metadata": {},
   "source": [
    "# My favorite fish"
   ]
  },
  {
   "cell_type": "markdown",
   "metadata": {},
   "source": [
    "## Pampus argenteus\n",
    "### Max Length: 60.0\n",
    "Unix code used:  curl -s 'http://fishbase.org/summary/Pampus-argenteus.html' | grep -w Max | cut -d \" \" -f 13\n",
    "### Family: Stromateidae\n",
    "Unix code used: curl -s 'http://fishbase.org/summary/Pampus-argenteus.html' | grep -w Family | cut -d \"=\" -f 6 | cut -d \">\" -f 2 | cut -d \"<\" -f 1\n",
    "\n"
   ]
  },
  {
   "cell_type": "markdown",
   "metadata": {},
   "source": [
    "## Sphyrna mokarran\n",
    "### Max Length: 610\n",
    "Unix code used:  curl -s 'http://fishbase.org/summary/Sphyrna-mokarran.html' | grep -w Max | cut -d \" \" -f 14\n",
    "### Family: Sphyrnidae\n",
    "Unix code used: curl -s 'http://fishbase.org/summary/Sphyrna-mokarran.html' | grep -w Family | cut -d \"=\" -f 6 | cut -d \">\" -f 2 | cut -d \"<\" -f 1\n",
    "\n"
   ]
  },
  {
   "cell_type": "markdown",
   "metadata": {},
   "source": [
    "## Rhincodon typus\n",
    "### Max Length: 1700\n",
    "Unix code used:  curl -s 'http://fishbase.org/summary/Rhincodon-typus.html' | grep -w Max | cut -d \" \" -f 14\n",
    "### Family: Rhincodontidae\n",
    "Unix code used: curl -s 'http://fishbase.org/summary/Rhincodon-typus.html' | grep -w Family | cut -d \"=\" -f 6 | cut -d \">\" -f 2 | cut -d \"<\" -f 1\n",
    "\n"
   ]
  },
  {
   "cell_type": "markdown",
   "metadata": {},
   "source": [
    "## Carcharadon carcharias\n",
    "### Max Length: 541\n",
    "Unix code used:  curl -s 'http://fishbase.org/summary/751' | grep -w Max | cut -d \" \" -f 14\n",
    "### Family: Lamnidae\n",
    "Unix code used: curl -s 'http://fishbase.org/summary/751' | grep -w Family | cut -d \"=\" -f 6 | cut -d \">\" -f 2 | cut -d \"<\" -f 1\n",
    "\n",
    "\n"
   ]
  },
  {
   "cell_type": "code",
   "execution_count": null,
   "metadata": {
    "collapsed": true
   },
   "outputs": [],
   "source": []
  }
 ],
 "metadata": {
  "anaconda-cloud": {},
  "kernelspec": {
   "display_name": "Python [default]",
   "language": "python",
   "name": "python3"
  },
  "language_info": {
   "codemirror_mode": {
    "name": "ipython",
    "version": 3
   },
   "file_extension": ".py",
   "mimetype": "text/x-python",
   "name": "python",
   "nbconvert_exporter": "python",
   "pygments_lexer": "ipython3",
   "version": "3.5.2"
  }
 },
 "nbformat": 4,
 "nbformat_minor": 2
}
